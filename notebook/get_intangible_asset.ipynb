{
 "cells": [
  {
   "attachments": {},
   "cell_type": "markdown",
   "metadata": {},
   "source": [
    "# Get Intangible Asset\n",
    "\n",
    "* 「企業結合等関係注記」から、無形資産の情報を取得する"
   ]
  },
  {
   "cell_type": "code",
   "execution_count": 1,
   "metadata": {},
   "outputs": [
    {
     "output_type": "stream",
     "name": "stdout",
     "text": "920\n"
    }
   ],
   "source": [
    "import os\n",
    "import pandas as pd\n",
    "import xbrr\n",
    "\n",
    "\n",
    "ROOT = os.path.join(os.getcwd(), \"../data\")\n",
    "intangibles = pd.read_csv(os.path.join(ROOT, \"raw/intangibles.csv\"))\n",
    "print(len(intangibles))"
   ]
  },
  {
   "cell_type": "code",
   "execution_count": 2,
   "metadata": {},
   "outputs": [
    {
     "output_type": "execute_result",
     "data": {
      "text/plain": "   is_ifrs                                               note        cash  \\\n0    False  <h6>\\n （企業結合等関係）\\n</h6>\\n<p style=\"margin-left... -1180000000   \n1    False  <p style=\"page-break-before:always; line-heigh... -2839000000   \n2    False  <h6 class=\"smt_head5\">\\n (企業結合等関係)\\n</h6>\\n<p ... -1080000000   \n3    False  <h6>\\n （企業結合等関係）\\n</h6>\\n<p style=\"text-align:...   -21000000   \n4     True  <p style=\"margin-left: 6px; text-align: left\">... -1527000000   \n\n  edinet_code  sec_code   filer_name  fiscal_year submit_date    doc_id  \n0      E00006     13770  株式会社　サカタのタネ         2018  2019-08-27  S100GUE8  \n1      E00011     19110     住友林業株式会社         2018  2019-06-21  S100G299  \n2      E00014     13320     日本水産株式会社         2018  2019-06-26  S100G50V  \n3      E00017     13520     株式会社ホウスイ         2018  2019-06-24  S100G4CT  \n4      E00023     57130   住友金属鉱山株式会社         2018  2019-06-25  S100G7YI  ",
      "text/html": "<div>\n<style scoped>\n    .dataframe tbody tr th:only-of-type {\n        vertical-align: middle;\n    }\n\n    .dataframe tbody tr th {\n        vertical-align: top;\n    }\n\n    .dataframe thead th {\n        text-align: right;\n    }\n</style>\n<table border=\"1\" class=\"dataframe\">\n  <thead>\n    <tr style=\"text-align: right;\">\n      <th></th>\n      <th>is_ifrs</th>\n      <th>note</th>\n      <th>cash</th>\n      <th>edinet_code</th>\n      <th>sec_code</th>\n      <th>filer_name</th>\n      <th>fiscal_year</th>\n      <th>submit_date</th>\n      <th>doc_id</th>\n    </tr>\n  </thead>\n  <tbody>\n    <tr>\n      <th>0</th>\n      <td>False</td>\n      <td>&lt;h6&gt;\\n （企業結合等関係）\\n&lt;/h6&gt;\\n&lt;p style=\"margin-left...</td>\n      <td>-1180000000</td>\n      <td>E00006</td>\n      <td>13770</td>\n      <td>株式会社　サカタのタネ</td>\n      <td>2018</td>\n      <td>2019-08-27</td>\n      <td>S100GUE8</td>\n    </tr>\n    <tr>\n      <th>1</th>\n      <td>False</td>\n      <td>&lt;p style=\"page-break-before:always; line-heigh...</td>\n      <td>-2839000000</td>\n      <td>E00011</td>\n      <td>19110</td>\n      <td>住友林業株式会社</td>\n      <td>2018</td>\n      <td>2019-06-21</td>\n      <td>S100G299</td>\n    </tr>\n    <tr>\n      <th>2</th>\n      <td>False</td>\n      <td>&lt;h6 class=\"smt_head5\"&gt;\\n (企業結合等関係)\\n&lt;/h6&gt;\\n&lt;p ...</td>\n      <td>-1080000000</td>\n      <td>E00014</td>\n      <td>13320</td>\n      <td>日本水産株式会社</td>\n      <td>2018</td>\n      <td>2019-06-26</td>\n      <td>S100G50V</td>\n    </tr>\n    <tr>\n      <th>3</th>\n      <td>False</td>\n      <td>&lt;h6&gt;\\n （企業結合等関係）\\n&lt;/h6&gt;\\n&lt;p style=\"text-align:...</td>\n      <td>-21000000</td>\n      <td>E00017</td>\n      <td>13520</td>\n      <td>株式会社ホウスイ</td>\n      <td>2018</td>\n      <td>2019-06-24</td>\n      <td>S100G4CT</td>\n    </tr>\n    <tr>\n      <th>4</th>\n      <td>True</td>\n      <td>&lt;p style=\"margin-left: 6px; text-align: left\"&gt;...</td>\n      <td>-1527000000</td>\n      <td>E00023</td>\n      <td>57130</td>\n      <td>住友金属鉱山株式会社</td>\n      <td>2018</td>\n      <td>2019-06-25</td>\n      <td>S100G7YI</td>\n    </tr>\n  </tbody>\n</table>\n</div>"
     },
     "metadata": {},
     "execution_count": 2
    }
   ],
   "source": [
    "intangibles.head(5)"
   ]
  },
  {
   "cell_type": "code",
   "execution_count": 3,
   "metadata": {},
   "outputs": [],
   "source": [
    "import re\n",
    "import unicodedata\n",
    "from bs4 import BeautifulSoup\n",
    "\n",
    "\n",
    "class Section():\n",
    "\n",
    "    def __init__(self, title, contents=()):\n",
    "        self.title = title\n",
    "        self.contents = list(contents)\n",
    "    \n",
    "    def add_content(self, content):\n",
    "        self.contents.append(content)\n",
    "\n",
    "    def new_title(self, title):\n",
    "        self.title = title\n",
    "        self.contents = []\n",
    "\n",
    "    def __repr__(self):\n",
    "        if len(self.contents) == 0:\n",
    "            content = \"\"\n",
    "        else:\n",
    "            content = self.contents[0][:100]\n",
    "        return f\"<Section (title:{self.title}, content:{content})>\"\n",
    "\n",
    "\n",
    "def parse(note):\n",
    "    html = BeautifulSoup(note, \"html.parser\")\n",
    "    pattern = None\n",
    "    indents = []\n",
    "    for br in html.find_all(\"br\"):\n",
    "        br.replace_with(\"\\n\")\n",
    "\n",
    "    hint = \"企業結合の概要\"\n",
    "    sections = []\n",
    "    section = None\n",
    "    for p in html.find_all(\"p\"):\n",
    "        content = unicodedata.normalize(\"NFKC\", p.text.strip())\n",
    "        if pattern is not None and re.search(pattern, content):\n",
    "            styles = p[\"style\"].split(\";\")\n",
    "            if len(indents) == len([s for s in styles if s in indents]):\n",
    "                sections.append(Section(section.title, section.contents))\n",
    "                section.new_title(content)\n",
    "                continue\n",
    "\n",
    "        if content.endswith(hint):\n",
    "            index = content.replace(hint, \"\")\n",
    "            index = index.replace(\"(\", \"\\(\").replace(\")\", \"\\)\").replace(\".\", \"\\.\")\n",
    "            pattern = re.compile(\"^\" + index.replace(\"1\", \"\\d\"))\n",
    "            for s in p[\"style\"].split(\";\"):\n",
    "                if s in [\"padding-left\", \"margin-left\", \"text-indent\"]:\n",
    "                    indents.append(s)\n",
    "            section = Section(content)\n",
    "        elif section is not None:\n",
    "            section.add_content(content)\n",
    "\n",
    "\n",
    "    return sections"
   ]
  },
  {
   "cell_type": "code",
   "execution_count": 4,
   "metadata": {},
   "outputs": [
    {
     "output_type": "stream",
     "name": "stdout",
     "text": "[<Section (title:1.企業結合の概要, content:(1) 被取得企業の名称及びその事業の内容)>, <Section (title:2.連結財務諸表に含まれている被取得企業の業績の期間, content:2018年10月31日から2019年5月31日まで)>, <Section (title:3.被取得企業の取得原価及び対価の種類ごとの内訳, content:)>, <Section (title:4.主要な取得関連費用の内容及び金額, content:コンサルティング会社に対する報酬等      32百万円)>, <Section (title:5.発生したのれんの金額、発生原因、償却方法及び償却期間, content:(1) 発生したのれんの金額)>, <Section (title:6.企業結合日に受け入れた資産及び引き受けた負債の額並びにその主な内訳, content:流動資産)>, <Section (title:7.企業結合が連結会計年度の開始の日に完了したと仮定した場合の当連結会計年度の連結損益計算書に及ぼす影響の概算額及びその算定方法, content:当連結会計年度における概算額の算定が困難であるため、記載しておりません。)>, <Section (title:1.取引の概要, content:(1) 対象となった事業の名称及び当該事業の内容)>]\n"
    }
   ],
   "source": [
    "parsed = parse(intangibles[\"note\"].iloc[0])\n",
    "print(parsed)\n",
    "\n",
    "assert len(parsed) > 0, \"Missing section\""
   ]
  },
  {
   "cell_type": "code",
   "execution_count": 5,
   "metadata": {},
   "outputs": [
    {
     "output_type": "stream",
     "name": "stdout",
     "text": "30 / 920 companies recognize intangibles\n"
    }
   ],
   "source": [
    "has_intangible = []\n",
    "for index, row in intangibles.iterrows():\n",
    "    if \"のれん以外\" in row[\"note\"]:\n",
    "        has_intangible.append(True)\n",
    "    else:\n",
    "        has_intangible.append(False)\n",
    "\n",
    "if \"has_intangible\" not in intangibles.columns:\n",
    "    intangibles[\"has_intangible\"] = has_intangible\n",
    "\n",
    "print(f\"{len(intangibles[intangibles['has_intangible']])} / {len(intangibles)} companies recognize intangibles\")"
   ]
  },
  {
   "cell_type": "code",
   "execution_count": 6,
   "metadata": {
    "tags": [
     "outputPrepend",
     "outputPrepend",
     "outputPrepend",
     "outputPrepend"
    ]
   },
   "outputs": [
    {
     "output_type": "stream",
     "name": "stdout",
     "text": "50\n"
    }
   ],
   "source": [
    "import re\n",
    "\n",
    "\n",
    "assets = {\n",
    "    \"顧客関連資産\": re.compile(\"顧客(関連)?資産\"),\n",
    "    \"技術関連資産\": re.compile(\"技術(関連)?資産\"),\n",
    "    \"商標権\": re.compile(\"商標権\"),\n",
    "    \"借地権\": re.compile(\"借地権\")\n",
    "}\n",
    "price_pattern = re.compile(\"\\d(\\d|,)+?(.+?)円\")\n",
    "year_pattern = re.compile(\"\\d+?年\")\n",
    "\n",
    "breakdowns = []\n",
    "for index, row in intangibles[intangibles['has_intangible']].iterrows():\n",
    "    html = BeautifulSoup(row[\"note\"], \"html.parser\")\n",
    "    for br in html.find_all(\"br\"):\n",
    "        br.replace_with(\"\\n\")\n",
    "    content = unicodedata.normalize(\"NFKC\", html.text.strip())\n",
    "    content = content.replace(\"\\n\", \" \")\n",
    "    content = \" \".join(content.split())\n",
    "    start = content.index(\"のれん以外\")\n",
    "    description = content[start:]\n",
    "    for a in assets:\n",
    "        m = re.search(assets[a], description)\n",
    "        price = \"\"\n",
    "        year = \"\"\n",
    "        if m is not None:\n",
    "            detail = description[m.start():]\n",
    "            price = re.search(price_pattern, detail)\n",
    "            year = re.search(year_pattern, detail)\n",
    "            if price is not None:\n",
    "                price = price.group(0).replace(\",\", \"\")\n",
    "            if year is not None:\n",
    "                year = year.group(0).replace(\"年\", \"\")\n",
    "\n",
    "            if price or year:\n",
    "                item = {}\n",
    "                for k in intangibles.columns:\n",
    "                    if k != \"note\":\n",
    "                        item[k] = row[k]\n",
    "                \n",
    "                item[\"asset\"] = a\n",
    "                item[\"price\"] = price\n",
    "                item[\"year\"] = year\n",
    "                breakdowns.append(item)\n",
    "\n",
    "breakdowns = pd.DataFrame(breakdowns)\n",
    "print(len(breakdowns))"
   ]
  },
  {
   "cell_type": "code",
   "execution_count": 7,
   "metadata": {},
   "outputs": [
    {
     "output_type": "execute_result",
     "data": {
      "text/plain": "   is_ifrs        cash edinet_code  sec_code  filer_name  fiscal_year  \\\n0    False -2770000000      E00058     18120    鹿島建設株式会社         2018   \n1    False -2770000000      E00058     18120    鹿島建設株式会社         2018   \n2    False  -687000000      E00703     79150  ＮＩＳＳＨＡ株式会社         2018   \n3    False  -588000000      E00766     40410    日本曹達株式会社         2018   \n4    False -3328000000      E00872     34010      帝人株式会社         2018   \n\n  submit_date    doc_id  has_intangible    asset    price year  \n0  2019-06-26  S100G4O0            True   顧客関連資産  1107百万円    5  \n1  2019-06-26  S100G4O0            True  その他関連資産  1107百万円    5  \n2  2019-03-22  S100FF10            True      商標権   88 百万円    7  \n3  2019-06-27  S100G9AK            True      商標権  4999百万円   10  \n4  2019-06-20  S100G16A            True   顧客関連資産  2907百万円   10  ",
      "text/html": "<div>\n<style scoped>\n    .dataframe tbody tr th:only-of-type {\n        vertical-align: middle;\n    }\n\n    .dataframe tbody tr th {\n        vertical-align: top;\n    }\n\n    .dataframe thead th {\n        text-align: right;\n    }\n</style>\n<table border=\"1\" class=\"dataframe\">\n  <thead>\n    <tr style=\"text-align: right;\">\n      <th></th>\n      <th>is_ifrs</th>\n      <th>cash</th>\n      <th>edinet_code</th>\n      <th>sec_code</th>\n      <th>filer_name</th>\n      <th>fiscal_year</th>\n      <th>submit_date</th>\n      <th>doc_id</th>\n      <th>has_intangible</th>\n      <th>asset</th>\n      <th>price</th>\n      <th>year</th>\n    </tr>\n  </thead>\n  <tbody>\n    <tr>\n      <th>0</th>\n      <td>False</td>\n      <td>-2770000000</td>\n      <td>E00058</td>\n      <td>18120</td>\n      <td>鹿島建設株式会社</td>\n      <td>2018</td>\n      <td>2019-06-26</td>\n      <td>S100G4O0</td>\n      <td>True</td>\n      <td>顧客関連資産</td>\n      <td>1107百万円</td>\n      <td>5</td>\n    </tr>\n    <tr>\n      <th>1</th>\n      <td>False</td>\n      <td>-2770000000</td>\n      <td>E00058</td>\n      <td>18120</td>\n      <td>鹿島建設株式会社</td>\n      <td>2018</td>\n      <td>2019-06-26</td>\n      <td>S100G4O0</td>\n      <td>True</td>\n      <td>その他関連資産</td>\n      <td>1107百万円</td>\n      <td>5</td>\n    </tr>\n    <tr>\n      <th>2</th>\n      <td>False</td>\n      <td>-687000000</td>\n      <td>E00703</td>\n      <td>79150</td>\n      <td>ＮＩＳＳＨＡ株式会社</td>\n      <td>2018</td>\n      <td>2019-03-22</td>\n      <td>S100FF10</td>\n      <td>True</td>\n      <td>商標権</td>\n      <td>88 百万円</td>\n      <td>7</td>\n    </tr>\n    <tr>\n      <th>3</th>\n      <td>False</td>\n      <td>-588000000</td>\n      <td>E00766</td>\n      <td>40410</td>\n      <td>日本曹達株式会社</td>\n      <td>2018</td>\n      <td>2019-06-27</td>\n      <td>S100G9AK</td>\n      <td>True</td>\n      <td>商標権</td>\n      <td>4999百万円</td>\n      <td>10</td>\n    </tr>\n    <tr>\n      <th>4</th>\n      <td>False</td>\n      <td>-3328000000</td>\n      <td>E00872</td>\n      <td>34010</td>\n      <td>帝人株式会社</td>\n      <td>2018</td>\n      <td>2019-06-20</td>\n      <td>S100G16A</td>\n      <td>True</td>\n      <td>顧客関連資産</td>\n      <td>2907百万円</td>\n      <td>10</td>\n    </tr>\n  </tbody>\n</table>\n</div>"
     },
     "metadata": {},
     "execution_count": 7
    }
   ],
   "source": [
    "breakdowns.head(5)"
   ]
  },
  {
   "cell_type": "code",
   "execution_count": 8,
   "metadata": {},
   "outputs": [],
   "source": [
    "breakdowns.to_csv(\"asset_breakdowns.csv\", encoding=\"shift_jis\", index=False)"
   ]
  }
 ],
 "metadata": {
  "kernelspec": {
   "display_name": "Python 3",
   "language": "python",
   "name": "python3"
  },
  "language_info": {
   "codemirror_mode": {
    "name": "ipython",
    "version": 3
   },
   "file_extension": ".py",
   "mimetype": "text/x-python",
   "name": "python",
   "nbconvert_exporter": "python",
   "pygments_lexer": "ipython3",
   "version": "3.7.2-final"
  }
 },
 "nbformat": 4,
 "nbformat_minor": 4
}